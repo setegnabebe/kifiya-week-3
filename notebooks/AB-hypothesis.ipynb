{
 "cells": [
  {
   "cell_type": "markdown",
   "metadata": {},
   "source": [
    "A/B HYPOTHESIS FOR INSURANCE COMPANY"
   ]
  },
  {
   "cell_type": "code",
   "execution_count": 3,
   "metadata": {},
   "outputs": [],
   "source": [
    "import pandas as pd\n",
    "import numpy as np\n",
    "from scipy import stats\n",
    "import matplotlib.pyplot as plt\n",
    "import seaborn as sns\n",
    "\n",
    "# Load the dataset (replace 'your_data.csv' with the actual file)\n",
    "# Example of a dataset format: ['Province', 'PostalCode', 'Gender', 'RiskScore', 'ProfitMargin']\n",
    "file_path = '../data/MachineLearningRating_v3.txt'\n",
    "\n",
    "data = pd.read_csv(file_path, sep='|')\n",
    "\n",
    "# Explore the dataset\n",
    "print(data.head())"
   ]
  },
  {
   "cell_type": "code",
   "execution_count": 2,
   "metadata": {},
   "outputs": [
    {
     "name": "stderr",
     "output_type": "stream",
     "text": [
      "/tmp/ipykernel_395/4167534194.py:9: DtypeWarning: Columns (32,37) have mixed types. Specify dtype option on import or set low_memory=False.\n",
      "  data = pd.read_csv(file_path, sep='|')\n"
     ]
    },
    {
     "name": "stdout",
     "output_type": "stream",
     "text": [
      "Province\n",
      "Eastern Cape     44.713432\n",
      "Free State       43.822975\n",
      "Gauteng          74.630009\n",
      "KwaZulu-Natal    84.234293\n",
      "Limpopo          40.927553\n",
      "Mpumalanga       38.785147\n",
      "North West       41.317426\n",
      "Northern Cape    14.026726\n",
      "Western Cape     60.831482\n",
      "Name: TotalClaims, dtype: float64\n",
      "ANOVA result for risk differences across provinces: p-value = 1.6782057588675906e-07\n",
      "Reject the null hypothesis: There are significant risk differences across provinces.\n",
      "PostalCode\n",
      "1        57.589092\n",
      "2        41.589582\n",
      "4         0.000000\n",
      "5       207.378816\n",
      "6        19.610447\n",
      "           ...    \n",
      "9781    139.499604\n",
      "9830      0.000000\n",
      "9868      0.000000\n",
      "9869      1.580807\n",
      "9870      0.000000\n",
      "Name: TotalClaims, Length: 888, dtype: float64\n",
      "ANOVA result for risk differences between postal codes: p-value = 0.8906511279164051\n",
      "Fail to reject the null hypothesis: No significant risk differences between postal codes.\n"
     ]
    }
   ],
   "source": [
    "import pandas as pd \n",
    "from scipy import stats\n",
    "import numpy as np\n",
    "import matplotlib.pyplot as plt\n",
    "import seaborn as sns\n",
    "\n",
    "file_path = '../data/MachineLearningRating_v3.txt'\n",
    "\n",
    "data = pd.read_csv(file_path, sep='|')\n",
    "\n",
    "\n",
    "data['ProfitMargin'] = (data['TotalPremium'] - data['TotalClaims']) / data['TotalPremium']\n",
    "\n",
    "# 1. ANOVA Test: Risk Differences Across Provinces\n",
    "\n",
    "# Group by Province and calculate the mean risk score (TotalClaims as a proxy for risk)\n",
    "provinces = data.groupby('Province')['TotalClaims'].mean()\n",
    "print(provinces)  # Display the average claims per province\n",
    "\n",
    "# Perform ANOVA test to check risk differences across provinces\n",
    "province_groups = [data[data['Province'] == province]['TotalClaims'] for province in data['Province'].unique()]\n",
    "anova_result = stats.f_oneway(*province_groups)\n",
    "\n",
    "# Interpret the p-value\n",
    "print(f\"ANOVA result for risk differences across provinces: p-value = {anova_result.pvalue}\")\n",
    "if anova_result.pvalue < 0.05:\n",
    "    print(\"Reject the null hypothesis: There are significant risk differences across provinces.\")\n",
    "else:\n",
    "    print(\"Fail to reject the null hypothesis: No significant risk differences across provinces.\")\n",
    "postal_codes = data.groupby('PostalCode')['TotalClaims'].mean()\n",
    "print(postal_codes)\n",
    "\n",
    "# Perform ANOVA test to check risk differences between postal codes\n",
    "postal_groups = [data[data['PostalCode'] == postal]['TotalClaims'] for postal in data['PostalCode'].unique()]\n",
    "anova_postal = stats.f_oneway(*postal_groups)\n",
    "\n",
    "# Interpret the p-value\n",
    "print(f\"ANOVA result for risk differences between postal codes: p-value = {anova_postal.pvalue}\")\n",
    "if anova_postal.pvalue < 0.05:\n",
    "    print(\"Reject the null hypothesis: There are significant risk differences between postal codes.\")\n",
    "else:\n",
    "    print(\"Fail to reject the null hypothesis: No significant risk differences between postal codes.\")"
   ]
  },
  {
   "cell_type": "code",
   "execution_count": 3,
   "metadata": {},
   "outputs": [
    {
     "name": "stdout",
     "output_type": "stream",
     "text": [
      "PostalCode\n",
      "1           -inf\n",
      "2       0.147242\n",
      "4       1.000000\n",
      "5       0.301099\n",
      "6       0.877073\n",
      "          ...   \n",
      "9781        -inf\n",
      "9830    1.000000\n",
      "9868    1.000000\n",
      "9869    0.879290\n",
      "9870    1.000000\n",
      "Name: ProfitMargin, Length: 888, dtype: float64\n",
      "ANOVA result for profit differences between postal codes: p-value = nan\n",
      "Fail to reject the null hypothesis: No significant profit differences between postal codes.\n"
     ]
    }
   ],
   "source": [
    "# Group by PostalCode and calculate the mean ProfitMargin\n",
    "postal_profit = data.groupby('PostalCode')['ProfitMargin'].mean()\n",
    "print(postal_profit)\n",
    "\n",
    "# Perform ANOVA test for profit differences across postal codes\n",
    "postal_profit_groups = [data[data['PostalCode'] == postal]['ProfitMargin'] for postal in data['PostalCode'].unique()]\n",
    "anova_postal_profit = stats.f_oneway(*postal_profit_groups)\n",
    "\n",
    "# Interpret the p-value\n",
    "print(f\"ANOVA result for profit differences between postal codes: p-value = {anova_postal_profit.pvalue}\")\n",
    "if anova_postal_profit.pvalue < 0.05:\n",
    "    print(\"Reject the null hypothesis: There are significant profit differences between postal codes.\")\n",
    "else:\n",
    "    print(\"Fail to reject the null hypothesis: No significant profit differences between postal codes.\")\n"
   ]
  },
  {
   "cell_type": "code",
   "execution_count": 4,
   "metadata": {},
   "outputs": [
    {
     "name": "stdout",
     "output_type": "stream",
     "text": [
      "Gender\n",
      "Female           37.046055\n",
      "Male             32.620312\n",
      "Not specified    66.646939\n",
      "Name: TotalClaims, dtype: float64\n",
      "T-test result for risk differences between men and women: p-value = 0.8041073961270343\n",
      "Fail to reject the null hypothesis: No significant risk differences between men and women.\n"
     ]
    }
   ],
   "source": [
    "gender_risk = data.groupby('Gender')['TotalClaims'].mean()\n",
    "print(gender_risk)\n",
    "\n",
    "# Perform t-test to check risk differences between genders\n",
    "male_risk = data[data['Gender'] == 'Male']['TotalClaims']\n",
    "female_risk = data[data['Gender'] == 'Female']['TotalClaims']\n",
    "t_test_gender = stats.ttest_ind(male_risk, female_risk)\n",
    "\n",
    "# Interpret the p-value\n",
    "print(f\"T-test result for risk differences between men and women: p-value = {t_test_gender.pvalue}\")\n",
    "if t_test_gender.pvalue < 0.05:\n",
    "    print(\"Reject the null hypothesis: There are significant risk differences between men and women.\")\n",
    "else:\n",
    "    print(\"Fail to reject the null hypothesis: No significant risk differences between men and women.\")"
   ]
  }
 ],
 "metadata": {
  "kernelspec": {
   "display_name": ".venv",
   "language": "python",
   "name": "python3"
  },
  "language_info": {
   "codemirror_mode": {
    "name": "ipython",
    "version": 3
   },
   "file_extension": ".py",
   "mimetype": "text/x-python",
   "name": "python",
   "nbconvert_exporter": "python",
   "pygments_lexer": "ipython3",
   "version": "3.11.9"
  }
 },
 "nbformat": 4,
 "nbformat_minor": 2
}
